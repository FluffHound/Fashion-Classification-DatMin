{
 "cells": [
  {
   "cell_type": "markdown",
   "metadata": {},
   "source": [
    "<div style='color: lightblue;\n",
    "           background-color: black;\n",
    "           font-size: 200%;\n",
    "           border-radius:15px;\n",
    "           text-align:center;\n",
    "           font-weight:600;\n",
    "           border-style: dashed;\n",
    "           border-color: lightblue;\n",
    "           font-family: \"Verdana\";'>\n",
    "Import Packages\n",
    "<a class=\"anchor\" id=\"1\"></a> "
   ]
  },
  {
   "cell_type": "code",
   "execution_count": 2,
   "metadata": {},
   "outputs": [],
   "source": [
    "from selenium import webdriver\n",
    "from selenium.webdriver.common.keys import Keys\n",
    "from selenium.webdriver.common.by import By\n",
    "from selenium.common.exceptions import NoSuchElementException\n",
    "from selenium.webdriver.support.ui import WebDriverWait\n",
    "from selenium.webdriver.support import expected_conditions as EC\n",
    "from selenium.webdriver.chrome.options import Options\n",
    "from selenium.webdriver.chrome.service import Service\n",
    "\n",
    "from bs4 import BeautifulSoup\n",
    "from urllib.request import Request, urlopen, HTTPError\n",
    "\n",
    "import pandas as pd\n",
    "import numpy as np\n",
    "import time"
   ]
  },
  {
   "cell_type": "markdown",
   "metadata": {},
   "source": [
    "# Open Driver"
   ]
  },
  {
   "cell_type": "code",
   "execution_count": 28,
   "metadata": {},
   "outputs": [],
   "source": [
    "CHROMEDRIVER_PATH = \"C:\\\\chromedriver.exe\"\n",
    "s = Service(CHROMEDRIVER_PATH)\n",
    "WINDOW_SIZE = \"1920,1080\"\n",
    "\n",
    "# Options\n",
    "chrome_options = Options()\n",
    "# chrome_options.add_argument(\"--headless\")\n",
    "# chrome_options.add_argument(\"--window-size=%s\" % WINDOW_SIZE)\n",
    "# chrome_options.add_argument('--no-sandbox')\n",
    "driver = webdriver.Chrome(service=s, options=chrome_options)"
   ]
  },
  {
   "cell_type": "code",
   "execution_count": 29,
   "metadata": {},
   "outputs": [],
   "source": [
    "driver.get('https://eu.louisvuitton.com/eng-e1/homepage')"
   ]
  },
  {
   "cell_type": "code",
   "execution_count": 30,
   "metadata": {},
   "outputs": [],
   "source": [
    "# Expand fasilitas\n",
    "expand = driver.find_element(By.CSS_SELECTOR, value='#ucm-details > div.ucm-popin.ucm-popin--pushpop.ucm-popin--active > a > span.ucm-popin-close-text')\n",
    "expand.click()\n",
    "\n",
    "time.sleep(1)\n",
    "\n",
    "expand = driver.find_element(By.CSS_SELECTOR, value='#mobile-menu-toggler')\n",
    "expand.click()\n",
    "\n",
    "time.sleep(1)\n",
    "\n",
    "expand = driver.find_element(By.CSS_SELECTOR, value='#homme-button')\n",
    "expand.click()\n",
    "\n",
    "time.sleep(1)\n",
    "\n",
    "expand = driver.find_element(By.CSS_SELECTOR, value='#m-category-cat10037-button')\n",
    "expand.click()\n",
    "\n",
    "time.sleep(1)\n",
    "\n",
    "expand = driver.find_element(By.CSS_SELECTOR, value='#m-category-cat10037-content > div:nth-child(3) > div.lv-mega-menu-panel__content.-has-grid > div > ul.lv-megamenu-list__items.lv-list.-level3 > li:nth-child(2) > div > a > span')\n",
    "expand.click()\n",
    "# Fasilitas populer\n",
    "# print(len(driver.find_elements(By.CLASS_NAME, value='group-wrapper')))"
   ]
  },
  {
   "cell_type": "markdown",
   "metadata": {},
   "source": [
    "# Request + BeautifulSoup"
   ]
  },
  {
   "cell_type": "code",
   "execution_count": 2,
   "metadata": {},
   "outputs": [],
   "source": [
    "house_urls  = 'https://eu.louisvuitton.com/eng-e1/women/ready-to-wear/coats-and-jackets/_/N-t12kgz5u'\n",
    "house_urls  = \"https://www.dior.com/en_int/fashion/womens-fashion/ready-to-wear/skirts\"\n",
    "# house_urls = 'https://www.wikipedia.org'"
   ]
  },
  {
   "cell_type": "code",
   "execution_count": 3,
   "metadata": {},
   "outputs": [],
   "source": [
    "hdr = {'User-Agent': 'Mozilla/5.0 (Windows NT 10.0; Win64; x64) AppleWebKit/537.36 (KHTML, like Gecko) Chrome/70.0.3538.77 Safari/537.36'}\n",
    "req = Request(house_urls,headers=hdr)\n",
    "soup_bulk = BeautifulSoup(urlopen(req))"
   ]
  },
  {
   "cell_type": "code",
   "execution_count": null,
   "metadata": {},
   "outputs": [],
   "source": []
  }
 ],
 "metadata": {
  "kernelspec": {
   "display_name": "Python 3.9.12 ('base')",
   "language": "python",
   "name": "python3"
  },
  "language_info": {
   "codemirror_mode": {
    "name": "ipython",
    "version": 3
   },
   "file_extension": ".py",
   "mimetype": "text/x-python",
   "name": "python",
   "nbconvert_exporter": "python",
   "pygments_lexer": "ipython3",
   "version": "3.9.12"
  },
  "orig_nbformat": 4,
  "vscode": {
   "interpreter": {
    "hash": "ae82f06a89716e6b1a9fb2502ea27dc09c8096cb49931e0059d2a90ded1719c1"
   }
  }
 },
 "nbformat": 4,
 "nbformat_minor": 2
}
